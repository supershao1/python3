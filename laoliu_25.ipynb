{
 "metadata": {
  "language_info": {
   "codemirror_mode": {
    "name": "ipython",
    "version": 3
   },
   "file_extension": ".py",
   "mimetype": "text/x-python",
   "name": "python",
   "nbconvert_exporter": "python",
   "pygments_lexer": "ipython3",
   "version": "3.9.1"
  },
  "orig_nbformat": 2,
  "kernelspec": {
   "name": "python3",
   "display_name": "Python 3.9.1 64-bit",
   "metadata": {
    "interpreter": {
     "hash": "8d380862c7aa3df43de59ca0b9dc04ceee2a78c59396982e7577dde90f1bb0b0"
    }
   }
  }
 },
 "nbformat": 4,
 "nbformat_minor": 2,
 "cells": [
  {
   "cell_type": "code",
   "execution_count": 1,
   "metadata": {},
   "outputs": [
    {
     "output_type": "stream",
     "name": "stdout",
     "text": [
      "共朗读了： 55 遍\n"
     ]
    }
   ],
   "source": [
    "'''\n",
    "小明特别喜欢背诵古诗，而且他有自己的背诵方法：同一首诗他会在第一天朗诵10遍，第二天朗诵9遍，第三天朗诵8遍……到第十天他只朗诵1遍就可以把这首诗完全记住。请问小明为记住一首古诗，在这十天里，他共朗诵了多少遍？请在以下程序空白处填上合适的语句。\n",
    "'''\n",
    "s=0\n",
    "for i in range(10,0,-1):\n",
    "    #s=s+i\n",
    "    s+=i\n",
    "print('共朗读了：',s,'遍')   \n"
   ]
  },
  {
   "cell_type": "code",
   "execution_count": null,
   "metadata": {},
   "outputs": [],
   "source": []
  }
 ]
}