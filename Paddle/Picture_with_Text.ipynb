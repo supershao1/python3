{
 "cells": [
  {
   "cell_type": "code",
   "execution_count": 1,
   "metadata": {},
   "outputs": [
    {
     "name": "stdout",
     "output_type": "stream",
     "text": [
      "2022-09-16 11:13:40,873 - model is painting now!, taskId: 3499118, waiting: 30s\n",
      "2022-09-16 11:14:02,929 - model is painting now!, taskId: 3499118, waiting: 30s\n",
      "{'imgUrls': ['https://wenxin.baidu.com/younger/file/ERNIE-ViLG/42365529fb130e9f95ee38d9b0e3c5deex', 'https://wenxin.baidu.com/younger/file/ERNIE-ViLG/42365529fb130e9f95ee38d9b0e3c5dei4', 'https://wenxin.baidu.com/younger/file/ERNIE-ViLG/42365529fb130e9f95ee38d9b0e3c5de5q', 'https://wenxin.baidu.com/younger/file/ERNIE-ViLG/42365529fb130e9f95ee38d9b0e3c5de30', 'https://wenxin.baidu.com/younger/file/ERNIE-ViLG/42365529fb130e9f95ee38d9b0e3c5dev9', 'https://wenxin.baidu.com/younger/file/ERNIE-ViLG/42365529fb130e9f95ee38d9b0e3c5dea2']}\n",
      "<RequestsCookieJar[]>\n",
      "<RequestsCookieJar[]>\n",
      "<RequestsCookieJar[]>\n",
      "<RequestsCookieJar[]>\n",
      "<RequestsCookieJar[]>\n",
      "<RequestsCookieJar[]>\n"
     ]
    }
   ],
   "source": [
    "import os\n",
    "import requests\n",
    "import wenxin_api\n",
    "from wenxin_api.tasks.text_to_image import TextToImage\n",
    "\n",
    "wenxin_api.ak = 'wTog2dBQWfmRDpoNfi3L9wL0sIARjk1I'  # 输入您的API Key\n",
    "wenxin_api.sk = 'qMepKFOnKqE8QskGi5o3hdh4In1TRB96'  # 输入您的Secrect Key\n",
    "input_text = \"绿色的香蕉\"\n",
    "img_style = \"油画\"\n",
    "input_dict = {\n",
    "    \"text\": input_text,  # 输入图片描述\n",
    "    \"style\": img_style,  # 输入图片风格\n",
    "}\n",
    "rst = TextToImage.create(**input_dict)\n",
    "print(rst)\n",
    "\n",
    "# 生成存图的目录\n",
    "\n",
    "\n",
    "def init_mkdir(data_path):\n",
    "    if not os.path.exists(data_path):  # 判断文件夹是否存在\n",
    "        os.makedirs(data_path)  # 不存在则新建文件夹\n",
    "\n",
    "\n",
    "init_mkdir(input_text+img_style)\n",
    "method2 = 'get'\n",
    "for i in range(len(rst[\"imgUrls\"])):\n",
    "    res2 = requests.request(url=rst[\"imgUrls\"][i], method=method2)\n",
    "    print(res2.cookies)\n",
    "    content = res2.content\n",
    "    with open(input_text+img_style+\"/\"+input_text+str(i)+'.jpg', 'wb') as f:\n",
    "        f.write(content)\n"
   ]
  },
  {
   "cell_type": "code",
   "execution_count": 2,
   "metadata": {},
   "outputs": [
    {
     "name": "stdout",
     "output_type": "stream",
     "text": [
      "(1024, 1024)\n"
     ]
    }
   ],
   "source": [
    "from PIL import ImageFont\n",
    "from PIL import Image\n",
    "from PIL import ImageDraw\n",
    "\n",
    "font = ImageFont.truetype(\"simhei.ttf\", 250)  # 设置字体和字体大小\n",
    "imageFile = \"绿色的香蕉油画/绿色的香蕉4.jpg\"  # 设置需要添加文字的图片路径\n",
    "tp = Image.open(imageFile)\n",
    "print(tp.size)\n",
    "# 在图片上添加文字 1\n",
    "draw = ImageDraw.Draw(tp)\n",
    "draw.text((0, 512+150), \"我蕉绿了\", (255, 255, 255),\n",
    "          font=font)  # 分别设置文字的xy坐标，文字内容，文字颜色，字体\n",
    "draw = ImageDraw.Draw(tp)\n",
    "\n",
    "# 保存\n",
    "tp.save(\"jiaolv.png\")  # 图片保存路径\n"
   ]
  }
 ],
 "metadata": {
  "kernelspec": {
   "display_name": "Python 3.9.1 64-bit",
   "language": "python",
   "name": "python3"
  },
  "language_info": {
   "codemirror_mode": {
    "name": "ipython",
    "version": 3
   },
   "file_extension": ".py",
   "mimetype": "text/x-python",
   "name": "python",
   "nbconvert_exporter": "python",
   "pygments_lexer": "ipython3",
   "version": "3.9.1"
  },
  "orig_nbformat": 4,
  "vscode": {
   "interpreter": {
    "hash": "40162138a71e229911d0c749823c6eadf62ca0b2927fbc5b1ad03c8a81c3cd2f"
   }
  }
 },
 "nbformat": 4,
 "nbformat_minor": 2
}
