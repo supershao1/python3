{
 "cells": [
  {
   "cell_type": "code",
   "execution_count": 4,
   "metadata": {},
   "outputs": [
    {
     "name": "stdout",
     "output_type": "stream",
     "text": [
      "Collecting pypiwin32\n",
      "  Downloading pypiwin32-223-py3-none-any.whl (1.7 kB)\n",
      "Requirement already satisfied: pywin32>=223 in c:\\users\\noell\\anaconda3\\lib\\site-packages (from pypiwin32) (227)\n",
      "Installing collected packages: pypiwin32\n",
      "Successfully installed pypiwin32-223\n"
     ]
    }
   ],
   "source": [
    "!pip install pypiwin32 "
   ]
  },
  {
   "cell_type": "code",
   "execution_count": 6,
   "metadata": {},
   "outputs": [],
   "source": [
    "import win32com.client\n",
    "import os"
   ]
  },
  {
   "cell_type": "code",
   "execution_count": 14,
   "metadata": {},
   "outputs": [],
   "source": [
    "inputFolder = r'C:\\Users\\noell\\Desktop\\test' ## Change here the input folder\n",
    "outputFolder = r'C:\\Users\\noell\\Desktop\\test_out' ## Change here the attachments output folder"
   ]
  },
  {
   "cell_type": "code",
   "execution_count": 15,
   "metadata": {},
   "outputs": [],
   "source": [
    "outlook = win32com.client.Dispatch(\"Outlook.Application\").GetNamespace(\"MAPI\")"
   ]
  },
  {
   "cell_type": "code",
   "execution_count": 16,
   "metadata": {},
   "outputs": [
    {
     "data": {
      "text/plain": [
       "['_ApplyTypes_',\n",
       " '_FlagAsMethod',\n",
       " '_LazyAddAttr_',\n",
       " '_NewEnum',\n",
       " '_Release_',\n",
       " '__AttrToID__',\n",
       " '__LazyMap__',\n",
       " '__bool__',\n",
       " '__call__',\n",
       " '__class__',\n",
       " '__delattr__',\n",
       " '__dict__',\n",
       " '__dir__',\n",
       " '__doc__',\n",
       " '__eq__',\n",
       " '__format__',\n",
       " '__ge__',\n",
       " '__getattr__',\n",
       " '__getattribute__',\n",
       " '__getitem__',\n",
       " '__gt__',\n",
       " '__hash__',\n",
       " '__init__',\n",
       " '__init_subclass__',\n",
       " '__int__',\n",
       " '__le__',\n",
       " '__len__',\n",
       " '__lt__',\n",
       " '__module__',\n",
       " '__ne__',\n",
       " '__new__',\n",
       " '__reduce__',\n",
       " '__reduce_ex__',\n",
       " '__repr__',\n",
       " '__setattr__',\n",
       " '__setitem__',\n",
       " '__sizeof__',\n",
       " '__str__',\n",
       " '__subclasshook__',\n",
       " '__weakref__',\n",
       " '_builtMethods_',\n",
       " '_enum_',\n",
       " '_find_dispatch_type_',\n",
       " '_get_good_object_',\n",
       " '_get_good_single_object_',\n",
       " '_lazydata_',\n",
       " '_make_method_',\n",
       " '_mapCachedItems_',\n",
       " '_oleobj_',\n",
       " '_olerepr_',\n",
       " '_print_details_',\n",
       " '_proc_',\n",
       " '_unicode_to_string_',\n",
       " '_username_',\n",
       " '_wrap_dispatch_']"
      ]
     },
     "execution_count": 16,
     "metadata": {},
     "output_type": "execute_result"
    }
   ],
   "source": [
    "dir(outlook)"
   ]
  },
  {
   "cell_type": "code",
   "execution_count": 17,
   "metadata": {},
   "outputs": [],
   "source": [
    "for file in os.listdir(inputFolder):\n",
    "    if file.endswith(\".msg\"):\n",
    "        outlook = win32com.client.Dispatch(\"Outlook.Application\").GetNamespace(\"MAPI\")\n",
    "        filePath = inputFolder  + '\\\\' + file\n",
    "        msg = outlook.OpenSharedItem(filePath)\n",
    "        att = msg.Attachments\n",
    "        for i in att:\n",
    "            i.SaveAsFile(os.path.join(outputFolder, i.FileName))#Saves the file with the attachment name"
   ]
  },
  {
   "cell_type": "code",
   "execution_count": null,
   "metadata": {},
   "outputs": [],
   "source": []
  },
  {
   "cell_type": "code",
   "execution_count": null,
   "metadata": {},
   "outputs": [],
   "source": []
  }
 ],
 "metadata": {
  "kernelspec": {
   "display_name": "Python 3",
   "language": "python",
   "name": "python3"
  },
  "language_info": {
   "codemirror_mode": {
    "name": "ipython",
    "version": 3
   },
   "file_extension": ".py",
   "mimetype": "text/x-python",
   "name": "python",
   "nbconvert_exporter": "python",
   "pygments_lexer": "ipython3",
   "version": "3.7.9"
  }
 },
 "nbformat": 4,
 "nbformat_minor": 4
}
