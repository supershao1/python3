{
 "metadata": {
  "language_info": {
   "codemirror_mode": {
    "name": "ipython",
    "version": 3
   },
   "file_extension": ".py",
   "mimetype": "text/x-python",
   "name": "python",
   "nbconvert_exporter": "python",
   "pygments_lexer": "ipython3",
   "version": "3.9.1"
  },
  "orig_nbformat": 2,
  "kernelspec": {
   "name": "python3",
   "display_name": "Python 3.9.1 64-bit",
   "metadata": {
    "interpreter": {
     "hash": "8d380862c7aa3df43de59ca0b9dc04ceee2a78c59396982e7577dde90f1bb0b0"
    }
   }
  }
 },
 "nbformat": 4,
 "nbformat_minor": 2,
 "cells": [
  {
   "cell_type": "code",
   "execution_count": 1,
   "metadata": {},
   "outputs": [
    {
     "output_type": "stream",
     "name": "stdout",
     "text": [
      "153 是水仙花数\n370 是水仙花数\n371 是水仙花数\n407 是水仙花数\n"
     ]
    }
   ],
   "source": [
    "'''\n",
    "24. 如果一个三位数的各位数字的立方和等于该数字，就把这个三位数称为水仙花数，例如：153，就是水仙花数：153=1+125+27。小明用Python编写程序，找出三位数中所有的水仙花数，请把程序补充完整。\n",
    "'''\n",
    "\n",
    "for i in range(100,1000):\n",
    "    a = i//100\n",
    "    b = i%100//10\n",
    "    c = i%10\n",
    "    x = a**3+b**3+c**3\n",
    "    if i == x:\n",
    "        print(i,\"是水仙花数\")\n",
    "\n"
   ]
  },
  {
   "cell_type": "code",
   "execution_count": null,
   "metadata": {},
   "outputs": [],
   "source": []
  }
 ]
}