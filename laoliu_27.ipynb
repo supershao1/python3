{
 "metadata": {
  "language_info": {
   "codemirror_mode": {
    "name": "ipython",
    "version": 3
   },
   "file_extension": ".py",
   "mimetype": "text/x-python",
   "name": "python",
   "nbconvert_exporter": "python",
   "pygments_lexer": "ipython3",
   "version": "3.9.1"
  },
  "orig_nbformat": 2,
  "kernelspec": {
   "name": "python391jvsc74a57bd08d380862c7aa3df43de59ca0b9dc04ceee2a78c59396982e7577dde90f1bb0b0",
   "display_name": "Python 3.9.1 64-bit"
  }
 },
 "nbformat": 4,
 "nbformat_minor": 2,
 "cells": [
  {
   "cell_type": "code",
   "execution_count": 8,
   "metadata": {},
   "outputs": [
    {
     "output_type": "stream",
     "name": "stdout",
     "text": [
      "用电费用： 76656.0\n3*a\n"
     ]
    },
    {
     "output_type": "execute_result",
     "data": {
      "text/plain": [
       "21"
      ]
     },
     "metadata": {},
     "execution_count": 8
    }
   ],
   "source": [
    "    #北京电价调整方案：年用电量不超过 2880 度，每度 0.48 元；2880 ～ 4800 度，每度0.53 元；4800 度以上，每度 0.78 元。编程输入年用电量，输出年用电费用。\n",
    "    \n",
    "    y = \"输入年度用电数：\"\n",
    "    #x = eval(input(y))\n",
    "    #x = input(y)\n",
    "    x = eval(input(\"输入年度用电数：\"))\n",
    "    #x = input(\"输入年度用电数：\")\n",
    "    #x = int(input(\"输入年度用电数：\"))\n",
    "    if  x<=2880:\n",
    "    \t\tprice=x*0.48\n",
    "    elif  x<=4800:\n",
    "    \t\tprice=2880*0.48+(x-2880)*0.53\n",
    "    else:\n",
    "    \t\tprice=2880*0.48+(4800-2880)*0.53+(x-4800)*0.78\n",
    "    print(\"用电费用：\",price)\n",
    "\n",
    "    a = 7\n",
    "    b = '3*a'\n",
    "    print(b)\n",
    "    eval(b)\n"
   ]
  },
  {
   "cell_type": "code",
   "execution_count": null,
   "metadata": {},
   "outputs": [],
   "source": []
  }
 ]
}