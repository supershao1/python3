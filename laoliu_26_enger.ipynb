{
 "metadata": {
  "language_info": {
   "codemirror_mode": {
    "name": "ipython",
    "version": 3
   },
   "file_extension": ".py",
   "mimetype": "text/x-python",
   "name": "python",
   "nbconvert_exporter": "python",
   "pygments_lexer": "ipython3",
   "version": "3.9.1"
  },
  "orig_nbformat": 2,
  "kernelspec": {
   "name": "python3",
   "display_name": "Python 3.9.1 64-bit"
  },
  "interpreter": {
   "hash": "8d380862c7aa3df43de59ca0b9dc04ceee2a78c59396982e7577dde90f1bb0b0"
  }
 },
 "nbformat": 4,
 "nbformat_minor": 2,
 "cells": [
  {
   "cell_type": "code",
   "execution_count": 3,
   "metadata": {},
   "outputs": [
    {
     "output_type": "stream",
     "name": "stdout",
     "text": [
      "第1个家庭的恩格尔系数为：0.1\n",
      "第2个家庭的恩格尔系数为：0.2\n",
      "第3个家庭的恩格尔系数为：0.3\n",
      "第4个家庭的恩格尔系数为：0.4\n",
      "第5个家庭的恩格尔系数为：0.5\n",
      "第6个家庭的恩格尔系数为：0.6\n",
      "达到小康及以上水平的家庭有： 4 户\n",
      "达到小康及以上水平的家庭占比为： 66.66666666666666 %\n"
     ]
    }
   ],
   "source": [
    "'''\n",
    "恩格尔系数法是国际上常用的一种测定贫困线的方法，是指居民家庭中食物支出占消费总支出的比重，它随家庭收入的增加而下降，即恩格尔系数越大就越贫困。\n",
    "恩格尔系数=食品支出总额/家庭或个人消费支出总额×100%\n",
    "根据联合国粮农组织提出的标准，恩格尔系数在国际上通常这么规定：在59%以上为贫困，50（含）~59%（含）为温饱，40（含）~50%（不含）为小康，30（含）~40%（不含）为富裕，低于30%为最富裕。\n",
    "请用Python语言编写一个实现以下功能的程序：\n",
    "（1）通过键盘输入某区域108个家庭的某年食品支出总额、消费支出总额；\n",
    "（2）统计此年度108个家庭达到小康及以上水平的家庭占比。\n",
    "该程序某次运行时交互过程如下：\n",
    "\n",
    "程序功能：某区域恩格尔系数采样统计\n",
    "请输入第1个家庭的食品支出总额：12851.5\n",
    "请输入第1个家庭的消费支出总额：43000\n",
    "……（略）\n",
    "请输入第108个家庭的食品支出总额：6400\n",
    "请输入第108个家庭的消费支出总额：21216.8\n",
    "达到小康及以上水平的家庭占比为78%。\n",
    "\n",
    "'''\n",
    "\n",
    "engerlist=[]\n",
    "goodandabove=0\n",
    "total=108\n",
    "\n",
    "\n",
    "for i in range(0,total):\n",
    "    food = float(input(f'请输入第{i+1}个家庭的食品支出总额：'))\n",
    "    expense = float(input(f'请输入第{i+1}个家庭的消费支出总额：'))\n",
    "    enger = float(food/expense)\n",
    "    engerlist.append(enger)\n",
    "\n",
    "    if engerlist[i] < 0.5:        \n",
    "        goodandabove+=1\n",
    "    print(f'第{i+1}个家庭的恩格尔系数为：{enger}')\n",
    "  \n",
    "print('达到小康及以上水平的家庭有：',goodandabove,'户')\n",
    "goodandabovepct=goodandabove/total*100\n",
    "print('达到小康及以上水平的家庭占比为：',goodandabovepct,'%')\n",
    "\n"
   ]
  },
  {
   "cell_type": "code",
   "execution_count": 4,
   "metadata": {},
   "outputs": [
    {
     "output_type": "stream",
     "name": "stdout",
     "text": [
      "程序功能：体温统计\n",
      "体温小于等于36.4度的有： 2 人\n",
      "体温在36.5~36.9度的有： 1 人\n",
      "体温大于等于37.0度的有： 0 人\n"
     ]
    }
   ],
   "source": [
    "#程序功能：体温统计\n",
    "print(\"程序功能：体温统计\")#（1分）\n",
    "a=0\n",
    "b=0\n",
    "c=0 #（a,b,c都置0，给1分，否则不给）\n",
    "for i in range(1,4): #（如果1，33参数不对，-1，无：号-1（不重复扣），共2分）\n",
    "    t=float(input(\"请输入第\"+str(i)+\"名同学的体温：\")) \n",
    "    #（浮点数1分，input1分，其他正确1分，共3分））\n",
    "    if t<=36.4:\n",
    "       a=a+1\n",
    "    if 36.4<t<37.0:\n",
    "       b=b+1\n",
    "    if t>=37.0:\n",
    "       c=c+1 \n",
    "    #（每个条件写正确1分，a=a+1等对，一个1分，共6分）\n",
    "print(\"体温小于等于36.4度的有：\",a,\"人\")\n",
    "print(\"体温在36.5~36.9度的有：\",b,\"人\")\n",
    "print(\"体温大于等于37.0度的有：\",c,\"人\")\n",
    "#（打印结果正确1分）\n"
   ]
  },
  {
   "cell_type": "code",
   "execution_count": null,
   "metadata": {},
   "outputs": [],
   "source": []
  }
 ]
}