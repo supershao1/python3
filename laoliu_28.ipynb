{
 "metadata": {
  "language_info": {
   "codemirror_mode": {
    "name": "ipython",
    "version": 3
   },
   "file_extension": ".py",
   "mimetype": "text/x-python",
   "name": "python",
   "nbconvert_exporter": "python",
   "pygments_lexer": "ipython3",
   "version": "3.9.1"
  },
  "orig_nbformat": 2,
  "kernelspec": {
   "name": "python391jvsc74a57bd08d380862c7aa3df43de59ca0b9dc04ceee2a78c59396982e7577dde90f1bb0b0",
   "display_name": "Python 3.9.1 64-bit"
  }
 },
 "nbformat": 4,
 "nbformat_minor": 2,
 "cells": [
  {
   "cell_type": "code",
   "execution_count": 5,
   "metadata": {},
   "outputs": [
    {
     "output_type": "stream",
     "name": "stdout",
     "text": [
      "8706\n"
     ]
    }
   ],
   "source": [
    "#有一只猴子，第一天摘了若干个桃子 ，当即吃了一半，但还觉得不过瘾 ，就又多吃了一个。第 2 天早上又将剩下的桃子吃掉一半，还是觉得不过瘾，就又多吃了两个。以后每天早上都吃了前一天 剩下的一半加天数个（例如，第 5 天吃了前一天剩下的一半加 5个）。到第 10 天早上再想吃的时候，就只剩下一个桃子了。 求这只猴子第一天摘了多少个桃子？\n",
    "\n",
    "tao_today = 1\n",
    "day = 10\n",
    "while (day > 1):\n",
    "    #tao_today_chi = tao_yesterday_sheng/2 + day\n",
    "    #tao_today_sheng = tao_yesterday_sheng - tao_today_chi = tao_yesterday_sheng - (tao_yesterday_sheng/2 + day) = tao_yesterday_sheng /2 - day\n",
    "    #tao_yesterday_sheng = 2*(tao_today_sheng + day)\n",
    "    tao_yesterday = (tao_today + day-1)*2\n",
    "    day = day -1\n",
    "    tao_today = tao_yesterday\n",
    "\n",
    "print(tao_today)\n",
    "\n"
   ]
  },
  {
   "cell_type": "code",
   "execution_count": 6,
   "metadata": {},
   "outputs": [
    {
     "output_type": "stream",
     "name": "stdout",
     "text": [
      "8706\n"
     ]
    }
   ],
   "source": [
    "tao_today = 1\n",
    "day = 10\n",
    "for day in range(10,1,-1):\n",
    "    #tao_today_chi = tao_yesterday_sheng/2 + day\n",
    "    #tao_today_sheng = tao_yesterday_sheng - tao_today_chi = tao_yesterday_sheng - (tao_yesterday_sheng/2 + day) = tao_yesterday_sheng /2 - day\n",
    "    #tao_yesterday_sheng = 2*(tao_today_sheng + day)\n",
    "    tao_yesterday = (tao_today + day-1)*2\n",
    "    day = day -1\n",
    "    tao_today = tao_yesterday\n",
    "\n",
    "print(tao_today)"
   ]
  },
  {
   "cell_type": "code",
   "execution_count": 9,
   "metadata": {},
   "outputs": [
    {
     "output_type": "stream",
     "name": "stdout",
     "text": [
      "第 1 天：\n原有 8706 个桃子\n吃了 4354 个桃子\n还剩 4352 个桃子\n第 2 天：\n原有 4352 个桃子\n吃了 2178 个桃子\n还剩 2174 个桃子\n第 3 天：\n原有 2174 个桃子\n吃了 1090 个桃子\n还剩 1084 个桃子\n第 4 天：\n原有 1084 个桃子\n吃了 546 个桃子\n还剩 538 个桃子\n第 5 天：\n原有 538 个桃子\n吃了 274 个桃子\n还剩 264 个桃子\n第 6 天：\n原有 264 个桃子\n吃了 138 个桃子\n还剩 126 个桃子\n第 7 天：\n原有 126 个桃子\n吃了 70 个桃子\n还剩 56 个桃子\n第 8 天：\n原有 56 个桃子\n吃了 36 个桃子\n还剩 20 个桃子\n第 9 天：\n原有 20 个桃子\n吃了 19 个桃子\n还剩 1 个桃子\n结束\n"
     ]
    }
   ],
   "source": [
    "tao_today = 8706\n",
    "day = 1\n",
    "for day in range(1,10):\n",
    "    tao_today_chi = tao_today/2 + day\n",
    "    tao_today_sheng = tao_today - tao_today_chi\n",
    "    print('第',day,'天：\\n原有',int(tao_today),'个桃子\\n吃了',int(tao_today_chi),'个桃子\\n还剩',int(tao_today_sheng),'个桃子')\n",
    "    tao_today=tao_today_sheng\n",
    "print('结束')\n"
   ]
  },
  {
   "cell_type": "code",
   "execution_count": null,
   "metadata": {},
   "outputs": [],
   "source": []
  }
 ]
}