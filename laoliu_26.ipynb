{
 "metadata": {
  "language_info": {
   "codemirror_mode": {
    "name": "ipython",
    "version": 3
   },
   "file_extension": ".py",
   "mimetype": "text/x-python",
   "name": "python",
   "nbconvert_exporter": "python",
   "pygments_lexer": "ipython3",
   "version": "3.9.1"
  },
  "orig_nbformat": 2,
  "kernelspec": {
   "name": "python3",
   "display_name": "Python 3.9.1 64-bit",
   "metadata": {
    "interpreter": {
     "hash": "8d380862c7aa3df43de59ca0b9dc04ceee2a78c59396982e7577dde90f1bb0b0"
    }
   }
  }
 },
 "nbformat": 4,
 "nbformat_minor": 2,
 "cells": [
  {
   "cell_type": "code",
   "execution_count": 1,
   "metadata": {},
   "outputs": [
    {
     "output_type": "stream",
     "name": "stdout",
     "text": [
      "第1名同学体温值为：36.0\n",
      "第2名同学体温值为：36.7\n",
      "第3名同学体温值为：37.0\n",
      "第4名同学体温值为：38.0\n",
      "第5名同学体温值为：35.6\n",
      "第6名同学体温值为：36.4\n",
      "体温小于等于36.4度的有： 3 人\n",
      "大于36.4度且小于等于37.0度： 2 人\n",
      "体温大于37.0度的有： 1 人\n"
     ]
    }
   ],
   "source": [
    "'''\n",
    "随着疫情防控进入常态化阶段，高一年级的学生已经复学了。每天班里的同学都要向班主任老师报告自己的体温。体温值的读数最多包含1位小数。为了统计大家的体温情况，班主任老师请信息技术科代表小强编写一个实现以下功能的程序：\n",
    "（1）通过键盘接收32位同学的体温数据；\n",
    "（2）统计32位同学中有多少人的体温小于等于36.4度，多少人的体温在大于36.4度且小于等于37.0度，多少人的体温大于37.0度。\n",
    "（度是指摄氏度或（℃））\n",
    "该程序某次运行时交互过程如下：\n",
    "\n",
    "程序功能：体温统计\n",
    "请输入第1名同学的体温值：36.4\n",
    "请输入第2名同学的体温值：36.3\n",
    "……（略）\n",
    "请输入第31名同学的体温值：36.6\n",
    "请输入第32名同学的体温值：36.2\n",
    "体温小于等于36.4度的有：12人\n",
    "大于36.4度且小于等于37.0度：18人\n",
    "体温大于37.0度的有：2人\n",
    "（1）\t请用自然语言、伪代码或流程图描述算法。\n",
    "'''\n",
    "templist = []\n",
    "high=0\n",
    "med=0\n",
    "low=0\n",
    "i=0\n",
    "\n",
    "for i in range(0,6):\n",
    "    temp = float(input(f'请输入第{i+1}名同学的体温值：'))\n",
    "    templist.append(temp)\n",
    "    if templist[i] > 37:\n",
    "        high+=1\n",
    "    elif templist[i] > 36.4:\n",
    "        med+=1\n",
    "    else: low+=1\n",
    "    print(f'第{i+1}名同学体温值为：{temp}')\n",
    "\n",
    "print('体温小于等于36.4度的有：',low,'人')\n",
    "print('大于36.4度且小于等于37.0度：',med,'人')\n",
    "print('体温大于37.0度的有：',high,'人')\n"
   ]
  },
  {
   "cell_type": "code",
   "execution_count": 4,
   "metadata": {},
   "outputs": [
    {
     "output_type": "stream",
     "name": "stdout",
     "text": [
      "程序功能：体温统计\n",
      "体温小于等于36.4度的有： 2 人\n",
      "体温在36.5~36.9度的有： 1 人\n",
      "体温大于等于37.0度的有： 0 人\n"
     ]
    }
   ],
   "source": [
    "#程序功能：体温统计\n",
    "print(\"程序功能：体温统计\")#（1分）\n",
    "a=0\n",
    "b=0\n",
    "c=0 #（a,b,c都置0，给1分，否则不给）\n",
    "for i in range(1,4): #（如果1，33参数不对，-1，无：号-1（不重复扣），共2分）\n",
    "    t=float(input(\"请输入第\"+str(i)+\"名同学的体温：\")) \n",
    "    #（浮点数1分，input1分，其他正确1分，共3分））\n",
    "    if t<=36.4:\n",
    "       a=a+1\n",
    "    if 36.4<t<37.0:\n",
    "       b=b+1\n",
    "    if t>=37.0:\n",
    "       c=c+1 \n",
    "    #（每个条件写正确1分，a=a+1等对，一个1分，共6分）\n",
    "print(\"体温小于等于36.4度的有：\",a,\"人\")\n",
    "print(\"体温在36.5~36.9度的有：\",b,\"人\")\n",
    "print(\"体温大于等于37.0度的有：\",c,\"人\")\n",
    "#（打印结果正确1分）\n"
   ]
  },
  {
   "cell_type": "code",
   "execution_count": null,
   "metadata": {},
   "outputs": [],
   "source": []
  }
 ]
}